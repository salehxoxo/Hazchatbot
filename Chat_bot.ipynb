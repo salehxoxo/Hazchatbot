{
 "cells": [
  {
   "cell_type": "code",
   "execution_count": 1,
   "id": "15592b0a",
   "metadata": {},
   "outputs": [],
   "source": [
    "import os\n"
   ]
  },
  {
   "cell_type": "code",
   "execution_count": 2,
   "id": "193e7519",
   "metadata": {},
   "outputs": [],
   "source": [
    "# import faiss\n",
    "import pickle\n",
    "# from langchain.vectorstores import FAISS\n",
    "from langchain.chat_models import ChatOpenAI"
   ]
  },
  {
   "cell_type": "code",
   "execution_count": 3,
   "id": "18a5ad4c",
   "metadata": {},
   "outputs": [],
   "source": [
    "llm = ChatOpenAI(temperature=0, model_name='gpt-3.5-turbo', max_tokens=300)"
   ]
  },
  {
   "cell_type": "code",
   "execution_count": 4,
   "id": "f7e15e0f",
   "metadata": {},
   "outputs": [],
   "source": [
    "with open(\"Embeddings/hazwoperauto33(qdrant).pkl\",\"rb\") as f:\n",
    "    db = pickle.load(f)"
   ]
  },
  {
   "cell_type": "code",
   "execution_count": 5,
   "id": "acf581bd",
   "metadata": {},
   "outputs": [],
   "source": [
    "from langchain.prompts import PromptTemplate\n",
    "from langchain.memory import ConversationBufferWindowMemory\n",
    "\n",
    "# Build prompt\n",
    "template = \"\"\"You are a customer support agent for the company \"Hazwoper-osha\", do not play any other role. Use the following pieces of context to answer the question at the end. If you don't know the answer, just say \"I can only answer OSHA-Hazwoper related questions, please contact support if you need further assistance\", don't try to make up an answer. Use five sentences maximum. Keep the answer as concise as possible. Only answer in spanish when someone asks you to.\n",
    "\n",
    "{context}\n",
    "\n",
    "{chat_history}\n",
    "Question: {question}\n",
    "Helpful Answer:\"\"\"\n",
    "prompt = PromptTemplate(input_variables=[\"chat_history\", \"context\", \"question\"], template=template)\n",
    "# memory = ConversationBufferWindowMemory(input_key=\"question\", memory_key=\"history\",k=2, return_messages=True)\n",
    "# QA_CHAIN_PROMPT = PromptTemplate.from_template(template)"
   ]
  },
  {
   "cell_type": "code",
   "execution_count": 6,
   "id": "823fca9d",
   "metadata": {},
   "outputs": [],
   "source": [
    "# from langchain.chains import RetrievalQA\n",
    "# qa_chain = RetrievalQA.from_chain_type(\n",
    "#     llm,\n",
    "#     return_source_documents = True,\n",
    "#     retriever=db.as_retriever(search_type = \"similarity\", search_kwargs={\"k\":1}),\n",
    "#     verbose=True,\n",
    "#     chain_type_kwargs={\"prompt\": prompt, \"memory\": memory},\n",
    "# )"
   ]
  },
  {
   "cell_type": "code",
   "execution_count": 7,
   "id": "6278b3c8",
   "metadata": {},
   "outputs": [],
   "source": [
    "from langchain.chains import ConversationalRetrievalChain\n",
    "from langchain.memory import ConversationBufferWindowMemory\n",
    "from langchain.prompts.prompt import PromptTemplate\n",
    "memory2 = ConversationBufferWindowMemory(memory_key=\"chat_history\",k=2, return_messages=True,input_key=\"question\",output_key='answer')\n",
    "qa = ConversationalRetrievalChain.from_llm(llm=llm, retriever=db.as_retriever(search_type=\"similarity\", search_kwargs={\"k\":3}), memory=memory2, verbose=True, combine_docs_chain_kwargs={\"prompt\": prompt})"
   ]
  },
  {
   "cell_type": "code",
   "execution_count": 16,
   "id": "0f85eeb6",
   "metadata": {},
   "outputs": [],
   "source": [
    "question = \"how to contact my training provider?\""
   ]
  },
  {
   "cell_type": "code",
   "execution_count": 17,
   "id": "fc6d6b24",
   "metadata": {},
   "outputs": [],
   "source": [
    "# from langchain.retrievers.multi_query import MultiQueryRetriever\n",
    "# retriever_from_llm = MultiQueryRetriever.from_llm(\n",
    "#     retriever=db.as_retriever(), llm=llm\n",
    "# )"
   ]
  },
  {
   "cell_type": "code",
   "execution_count": 18,
   "id": "ca4ea2cb",
   "metadata": {},
   "outputs": [],
   "source": [
    "# unique_docs = retriever_from_llm.get_relevant_documents(query=question)"
   ]
  },
  {
   "cell_type": "code",
   "execution_count": 19,
   "id": "f60848bb",
   "metadata": {},
   "outputs": [],
   "source": [
    "# unique_docs"
   ]
  },
  {
   "cell_type": "code",
   "execution_count": 20,
   "id": "7ca9fc80",
   "metadata": {
    "scrolled": false
   },
   "outputs": [
    {
     "data": {
      "text/plain": [
       "[Document(page_content=\"Also is there anywhere I can look up to see if they are already certified or not ?\\nIf they are pre certified our system will notify you. If not, then you won’t see anything.\\n\\nI just accidently ordered a course for myself when it should have been for someone else.\\ngo to orders and click on Swap USER.\\n\\nI'm trying to register for a class internationally but do not have a U.S phone number . what should I input?\\nJust put 00000000.\\n\\nIf I sign up today, can I take the class tomorow.\\nYou can take it whenever you want. Just be sure to complete the course within its expiration date.\\n\\nI did not receive my certificate after completion.\\nPlease reach out to your training provider for further assistance.\\n\\nWhich places are these courses offered in?What regions/countries are the courses available at?\\nAll our courses are online and can be accessed from anywhere as long as you have internet. For Instructer-led/on-site training, you must contact our support team and discuss your prefered location.\", metadata={'source': 'parsedData/q8.txt'}),\n",
       " Document(page_content=') us with the following details:\\nCourse(s) of your choice,\\nPreferred date(s) for the training,\\nLocation for the training, and\\nNumber of expected participants.', metadata={'source': 'parsedData/Group Training-Shipping Lithium Batteries - Fully Regulated and Excepted Cells and Batteries Training (U.S. DOT, ICAO-IATA, IMO-IMDG).txt'}),\n",
       " Document(page_content='Location for the training, and\\nNumber of expected participants.', metadata={'source': 'parsedData/Group Training-Shipping Lithium Batteries - Excepted Cells and Batteries (U.S. DOT, ICAO-IATA, IMO-IMDG).txt'})]"
      ]
     },
     "execution_count": 20,
     "metadata": {},
     "output_type": "execute_result"
    }
   ],
   "source": [
    "db.similarity_search(question,k=3)\n",
    "# db.similarity_search_with_relevance_scores(question,k=2)"
   ]
  },
  {
   "cell_type": "code",
   "execution_count": 21,
   "id": "f2d7f82c",
   "metadata": {},
   "outputs": [],
   "source": [
    "# db.max_marginal_relevance_search(question,k=2)"
   ]
  },
  {
   "cell_type": "markdown",
   "id": "2407a1f5",
   "metadata": {
    "scrolled": true
   },
   "source": [
    "#result = qa_chain(question)"
   ]
  },
  {
   "cell_type": "code",
   "execution_count": 22,
   "id": "5919fb51",
   "metadata": {
    "scrolled": true
   },
   "outputs": [
    {
     "name": "stdout",
     "output_type": "stream",
     "text": [
      "\n",
      "\n",
      "\u001b[1m> Entering new LLMChain chain...\u001b[0m\n",
      "Prompt after formatting:\n",
      "\u001b[32;1m\u001b[1;3mGiven the following conversation and a follow up question, rephrase the follow up question to be a standalone question, in its original language.\n",
      "\n",
      "Chat History:\n",
      "\n",
      "Human: I completed my silica awareness course but hv not received the certificate yet\n",
      "Assistant: I apologize for the inconvenience. Please check your email, including your spam or junk folder, as the certificate is typically sent via email. If you still haven't received it, please contact our support team for further assistance.\n",
      "Follow Up Input: how to contact my training provider?\n",
      "Standalone question:\u001b[0m\n",
      "\n",
      "\u001b[1m> Finished chain.\u001b[0m\n",
      "\n",
      "\n",
      "\u001b[1m> Entering new StuffDocumentsChain chain...\u001b[0m\n",
      "\n",
      "\n",
      "\u001b[1m> Entering new LLMChain chain...\u001b[0m\n",
      "Prompt after formatting:\n",
      "\u001b[32;1m\u001b[1;3mYou are a customer support agent for the company \"Hazwoper-osha\", do not play any other role. Use the following pieces of context to answer the question at the end. If you don't know the answer, just say \"I can only answer OSHA-Hazwoper related questions, please contact support if you need further assistance\", don't try to make up an answer. Use five sentences maximum. Keep the answer as concise as possible. Only answer in spanish when someone asks you to.\n",
      "\n",
      "Also is there anywhere I can look up to see if they are already certified or not ?\n",
      "If they are pre certified our system will notify you. If not, then you won’t see anything.\n",
      "\n",
      "I just accidently ordered a course for myself when it should have been for someone else.\n",
      "go to orders and click on Swap USER.\n",
      "\n",
      "I'm trying to register for a class internationally but do not have a U.S phone number . what should I input?\n",
      "Just put 00000000.\n",
      "\n",
      "If I sign up today, can I take the class tomorow.\n",
      "You can take it whenever you want. Just be sure to complete the course within its expiration date.\n",
      "\n",
      "I did not receive my certificate after completion.\n",
      "Please reach out to your training provider for further assistance.\n",
      "\n",
      "Which places are these courses offered in?What regions/countries are the courses available at?\n",
      "All our courses are online and can be accessed from anywhere as long as you have internet. For Instructer-led/on-site training, you must contact our support team and discuss your prefered location.\n",
      "\n",
      ") us with the following details:\n",
      "Course(s) of your choice,\n",
      "Preferred date(s) for the training,\n",
      "Location for the training, and\n",
      "Number of expected participants.\n",
      "\n",
      "Location for the training, and\n",
      "Number of expected participants.\n",
      "\n",
      "\n",
      "Human: I completed my silica awareness course but hv not received the certificate yet\n",
      "Assistant: I apologize for the inconvenience. Please check your email, including your spam or junk folder, as the certificate is typically sent via email. If you still haven't received it, please contact our support team for further assistance.\n",
      "Question: How can I contact my training provider?\n",
      "Helpful Answer:\u001b[0m\n",
      "\n",
      "\u001b[1m> Finished chain.\u001b[0m\n",
      "\n",
      "\u001b[1m> Finished chain.\u001b[0m\n"
     ]
    }
   ],
   "source": [
    "result = qa({\"question\": question})"
   ]
  },
  {
   "cell_type": "code",
   "execution_count": 23,
   "id": "79b3299e",
   "metadata": {},
   "outputs": [
    {
     "data": {
      "text/plain": [
       "{'question': 'how to contact my training provider?',\n",
       " 'chat_history': [HumanMessage(content='I completed my silica awareness course but hv not received the certificate yet', additional_kwargs={}, example=False),\n",
       "  AIMessage(content=\"I apologize for the inconvenience. Please check your email, including your spam or junk folder, as the certificate is typically sent via email. If you still haven't received it, please contact our support team for further assistance.\", additional_kwargs={}, example=False)],\n",
       " 'answer': 'Please reach out to our support team for further assistance in contacting your training provider.'}"
      ]
     },
     "execution_count": 23,
     "metadata": {},
     "output_type": "execute_result"
    }
   ],
   "source": [
    "result"
   ]
  },
  {
   "cell_type": "code",
   "execution_count": null,
   "id": "3ffd7046",
   "metadata": {},
   "outputs": [],
   "source": []
  },
  {
   "cell_type": "code",
   "execution_count": null,
   "id": "c30655d4",
   "metadata": {},
   "outputs": [],
   "source": []
  },
  {
   "cell_type": "code",
   "execution_count": null,
   "id": "21e68d6a",
   "metadata": {},
   "outputs": [],
   "source": []
  },
  {
   "cell_type": "code",
   "execution_count": null,
   "id": "28045842",
   "metadata": {},
   "outputs": [],
   "source": []
  },
  {
   "cell_type": "code",
   "execution_count": null,
   "id": "77796bcd",
   "metadata": {},
   "outputs": [],
   "source": []
  },
  {
   "cell_type": "code",
   "execution_count": null,
   "id": "5d696935",
   "metadata": {},
   "outputs": [],
   "source": []
  },
  {
   "cell_type": "code",
   "execution_count": null,
   "id": "9497a2ee",
   "metadata": {},
   "outputs": [],
   "source": []
  },
  {
   "cell_type": "code",
   "execution_count": null,
   "id": "29c6b665",
   "metadata": {},
   "outputs": [],
   "source": []
  },
  {
   "cell_type": "code",
   "execution_count": null,
   "id": "ac4a6165",
   "metadata": {},
   "outputs": [],
   "source": []
  },
  {
   "cell_type": "code",
   "execution_count": null,
   "id": "e1a20bed",
   "metadata": {},
   "outputs": [],
   "source": []
  },
  {
   "cell_type": "code",
   "execution_count": null,
   "id": "ca5dd2b0",
   "metadata": {},
   "outputs": [],
   "source": []
  },
  {
   "cell_type": "code",
   "execution_count": null,
   "id": "9de18051",
   "metadata": {},
   "outputs": [],
   "source": []
  },
  {
   "cell_type": "code",
   "execution_count": null,
   "id": "34a53d4b",
   "metadata": {},
   "outputs": [],
   "source": []
  }
 ],
 "metadata": {
  "kernelspec": {
   "display_name": "Python 3 (ipykernel)",
   "language": "python",
   "name": "python3"
  },
  "language_info": {
   "codemirror_mode": {
    "name": "ipython",
    "version": 3
   },
   "file_extension": ".py",
   "mimetype": "text/x-python",
   "name": "python",
   "nbconvert_exporter": "python",
   "pygments_lexer": "ipython3",
   "version": "3.10.9"
  }
 },
 "nbformat": 4,
 "nbformat_minor": 5
}
